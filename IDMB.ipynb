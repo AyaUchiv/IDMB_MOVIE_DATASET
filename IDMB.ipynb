{
 "cells": [
  {
   "cell_type": "markdown",
   "id": "b9dbfdc5-c5d8-40bf-9910-bff0e80268d9",
   "metadata": {},
   "source": [
    "CLEANING IDMB MESSY DATASET"
   ]
  },
  {
   "cell_type": "code",
   "execution_count": 2,
   "id": "0c0ff747-755d-4ccf-92e3-da03d0cbe42d",
   "metadata": {},
   "outputs": [],
   "source": [
    "#adding libraries\n",
    "import pandas as pd\n",
    "import numpy as np\n",
    "#from sklearn.KNN"
   ]
  },
  {
   "cell_type": "code",
   "execution_count": 3,
   "id": "4745c13e-72c4-4406-87d8-8e24dda6f07c",
   "metadata": {},
   "outputs": [
    {
     "data": {
      "text/html": [
       "<div>\n",
       "<style scoped>\n",
       "    .dataframe tbody tr th:only-of-type {\n",
       "        vertical-align: middle;\n",
       "    }\n",
       "\n",
       "    .dataframe tbody tr th {\n",
       "        vertical-align: top;\n",
       "    }\n",
       "\n",
       "    .dataframe thead th {\n",
       "        text-align: right;\n",
       "    }\n",
       "</style>\n",
       "<table border=\"1\" class=\"dataframe\">\n",
       "  <thead>\n",
       "    <tr style=\"text-align: right;\">\n",
       "      <th></th>\n",
       "      <th>IMBD title ID</th>\n",
       "      <th>Original titlÊ</th>\n",
       "      <th>Release year</th>\n",
       "      <th>Genrë¨</th>\n",
       "      <th>Duration</th>\n",
       "      <th>Country</th>\n",
       "      <th>Content Rating</th>\n",
       "      <th>Director</th>\n",
       "      <th>Unnamed: 8</th>\n",
       "      <th>Income</th>\n",
       "      <th>Votes</th>\n",
       "      <th>Score</th>\n",
       "    </tr>\n",
       "  </thead>\n",
       "  <tbody>\n",
       "    <tr>\n",
       "      <th>0</th>\n",
       "      <td>tt0111161</td>\n",
       "      <td>The Shawshank Redemption</td>\n",
       "      <td>1995-02-10</td>\n",
       "      <td>Drama</td>\n",
       "      <td>142</td>\n",
       "      <td>USA</td>\n",
       "      <td>R</td>\n",
       "      <td>Frank Darabont</td>\n",
       "      <td>NaN</td>\n",
       "      <td>$ 28815245</td>\n",
       "      <td>2.278.845</td>\n",
       "      <td>9.3</td>\n",
       "    </tr>\n",
       "    <tr>\n",
       "      <th>1</th>\n",
       "      <td>tt0068646</td>\n",
       "      <td>The Godfather</td>\n",
       "      <td>09 21 1972</td>\n",
       "      <td>Crime, Drama</td>\n",
       "      <td>175</td>\n",
       "      <td>USA</td>\n",
       "      <td>R</td>\n",
       "      <td>Francis Ford Coppola</td>\n",
       "      <td>NaN</td>\n",
       "      <td>$ 246120974</td>\n",
       "      <td>1.572.674</td>\n",
       "      <td>9.2</td>\n",
       "    </tr>\n",
       "    <tr>\n",
       "      <th>2</th>\n",
       "      <td>tt0468569</td>\n",
       "      <td>The Dark Knight</td>\n",
       "      <td>23 -07-2008</td>\n",
       "      <td>Action, Crime, Drama</td>\n",
       "      <td>152</td>\n",
       "      <td>US</td>\n",
       "      <td>PG-13</td>\n",
       "      <td>Christopher Nolan</td>\n",
       "      <td>NaN</td>\n",
       "      <td>$ 1005455211</td>\n",
       "      <td>2.241.615</td>\n",
       "      <td>9.</td>\n",
       "    </tr>\n",
       "    <tr>\n",
       "      <th>3</th>\n",
       "      <td>tt0071562</td>\n",
       "      <td>The Godfather: Part II</td>\n",
       "      <td>1975-09-25</td>\n",
       "      <td>Crime, Drama</td>\n",
       "      <td>220</td>\n",
       "      <td>USA</td>\n",
       "      <td>R</td>\n",
       "      <td>Francis Ford Coppola</td>\n",
       "      <td>NaN</td>\n",
       "      <td>$ 4o8,035,783</td>\n",
       "      <td>1.098.714</td>\n",
       "      <td>9,.0</td>\n",
       "    </tr>\n",
       "    <tr>\n",
       "      <th>4</th>\n",
       "      <td>tt0110912</td>\n",
       "      <td>Pulp Fiction</td>\n",
       "      <td>1994-10-28</td>\n",
       "      <td>Crime, Drama</td>\n",
       "      <td></td>\n",
       "      <td>USA</td>\n",
       "      <td>R</td>\n",
       "      <td>Quentin Tarantino</td>\n",
       "      <td>NaN</td>\n",
       "      <td>$ 222831817</td>\n",
       "      <td>1.780.147</td>\n",
       "      <td>8,9f</td>\n",
       "    </tr>\n",
       "  </tbody>\n",
       "</table>\n",
       "</div>"
      ],
      "text/plain": [
       "  IMBD title ID            Original titlÊ  Release year                Genrë¨  \\\n",
       "0     tt0111161  The Shawshank Redemption    1995-02-10                 Drama   \n",
       "1     tt0068646             The Godfather    09 21 1972          Crime, Drama   \n",
       "2     tt0468569           The Dark Knight   23 -07-2008  Action, Crime, Drama   \n",
       "3     tt0071562    The Godfather: Part II    1975-09-25          Crime, Drama   \n",
       "4     tt0110912              Pulp Fiction    1994-10-28          Crime, Drama   \n",
       "\n",
       "  Duration Country Content Rating              Director  Unnamed: 8  \\\n",
       "0      142     USA              R        Frank Darabont         NaN   \n",
       "1      175     USA              R  Francis Ford Coppola         NaN   \n",
       "2      152      US          PG-13     Christopher Nolan         NaN   \n",
       "3      220     USA              R  Francis Ford Coppola         NaN   \n",
       "4              USA              R     Quentin Tarantino         NaN   \n",
       "\n",
       "          Income     Votes  Score  \n",
       "0     $ 28815245  2.278.845   9.3  \n",
       "1    $ 246120974  1.572.674   9.2  \n",
       "2   $ 1005455211  2.241.615    9.  \n",
       "3  $ 4o8,035,783  1.098.714  9,.0  \n",
       "4    $ 222831817  1.780.147  8,9f  "
      ]
     },
     "execution_count": 3,
     "metadata": {},
     "output_type": "execute_result"
    }
   ],
   "source": [
    "#loading the dataset\n",
    "idmb_data = pd.read_csv('messy_IMDB_dataset.csv', encoding='cp1252', sep =';')\n",
    "idmb = idmb_data\n",
    "idmb.head()"
   ]
  },
  {
   "cell_type": "code",
   "execution_count": 4,
   "id": "b713bffb-62ca-42ef-a888-f7d548eb8ec5",
   "metadata": {},
   "outputs": [
    {
     "data": {
      "text/plain": [
       "(101, 12)"
      ]
     },
     "execution_count": 4,
     "metadata": {},
     "output_type": "execute_result"
    }
   ],
   "source": [
    "#data overview\n",
    "idmb.shape"
   ]
  },
  {
   "cell_type": "code",
   "execution_count": 5,
   "id": "83231772-cae9-4440-b984-79393828bb26",
   "metadata": {},
   "outputs": [
    {
     "data": {
      "text/plain": [
       "IMBD title ID       1\n",
       "Original titlÊ      1\n",
       "Release year        1\n",
       "Genrë¨              1\n",
       "Duration            2\n",
       "Country             1\n",
       "Content Rating     24\n",
       "Director            1\n",
       "Unnamed: 8        101\n",
       "Income              1\n",
       " Votes              1\n",
       "Score               1\n",
       "dtype: int64"
      ]
     },
     "execution_count": 5,
     "metadata": {},
     "output_type": "execute_result"
    }
   ],
   "source": [
    "#total null values in each column\n",
    "idmb.isnull().sum()"
   ]
  },
  {
   "cell_type": "markdown",
   "id": "f681366b-39a1-42ed-bfc1-3dac3a8b388a",
   "metadata": {},
   "source": [
    "So column 'Unnamed: 8' has all values empty, so that will be dropped"
   ]
  },
  {
   "cell_type": "code",
   "execution_count": 7,
   "id": "3889bbc1-b601-40fc-b74c-451aed836598",
   "metadata": {},
   "outputs": [],
   "source": [
    "idmb.drop('Unnamed: 8', axis = 1, inplace = True)"
   ]
  },
  {
   "cell_type": "code",
   "execution_count": 8,
   "id": "6193cb90-991c-44ac-ab3c-ed8f93a8afce",
   "metadata": {},
   "outputs": [
    {
     "name": "stdout",
     "output_type": "stream",
     "text": [
      "['IMBD title ID', 'Original titlÊ', 'Release year', 'Genrë¨', 'Duration', 'Country', 'Content Rating', 'Director', 'Income', ' Votes ', 'Score']\n"
     ]
    }
   ],
   "source": [
    "print(idmb.columns.tolist())"
   ]
  },
  {
   "cell_type": "code",
   "execution_count": 9,
   "id": "19ce04e8-c111-40b3-be1b-83094708f080",
   "metadata": {},
   "outputs": [],
   "source": [
    "idmb.columns = idmb.columns.str.strip()"
   ]
  },
  {
   "cell_type": "markdown",
   "id": "7a5c856c-084a-4822-b9d5-df3a1ff7e817",
   "metadata": {},
   "source": [
    "WORKING ON DATA TYPES"
   ]
  },
  {
   "cell_type": "code",
   "execution_count": 11,
   "id": "546c9af1-0889-497b-a668-ac438ec36b36",
   "metadata": {},
   "outputs": [
    {
     "data": {
      "text/plain": [
       "IMBD title ID     object\n",
       "Original titlÊ    object\n",
       "Release year      object\n",
       "Genrë¨            object\n",
       "Duration          object\n",
       "Country           object\n",
       "Content Rating    object\n",
       "Director          object\n",
       "Income            object\n",
       "Votes             object\n",
       "Score             object\n",
       "dtype: object"
      ]
     },
     "execution_count": 11,
     "metadata": {},
     "output_type": "execute_result"
    }
   ],
   "source": [
    "#checking the data type\n",
    "idmb.dtypes"
   ]
  },
  {
   "cell_type": "markdown",
   "id": "ef6b6112-0d1d-4321-966f-6b4bf8bc0e2b",
   "metadata": {},
   "source": [
    "From the data types, working on them chronologically, ID and Title are okay. But Release Year should not be an object, by datetime format.\n",
    "First, find all the unique value of the datetime before converting it to datetime format"
   ]
  },
  {
   "cell_type": "markdown",
   "id": "3e9c2be2-9710-425e-ae1f-76761e0654dd",
   "metadata": {},
   "source": [
    "WORKING ON 'Release Year' Column"
   ]
  },
  {
   "cell_type": "code",
   "execution_count": 14,
   "id": "53a648bf-27f8-41a1-b0cb-f8e43f7eaf2a",
   "metadata": {},
   "outputs": [
    {
     "data": {
      "text/plain": [
       "array(['1995-02-10', '09 21 1972', ' 23 -07-2008', '1975-09-25',\n",
       "       '1994-10-28', '22 Feb 04', '1994-03-11', '1957-09-04',\n",
       "       '2010-09-24', '10-29-99', '1994-10-06', '2002-01-18',\n",
       "       '23rd December of 1966 ', nan, '1999-05-07', '01/16-03',\n",
       "       '1980-09-19', '1990-09-20', '18/11/1976', '2014-11-06',\n",
       "       '1995-12-15', '1991-03-05', '1977-10-20', '1998-10-30',\n",
       "       '2000-10-03', '2003-05-09', '2003-04-18', '1997-12-20',\n",
       "       '2019-11-07', '1948-03-11', '1955-08-19', '2000-05-19',\n",
       "       '2006-10-27', '2006-12-22', '1985-10-18', '1999-08-27',\n",
       "       '1995-04-07', '1991-12-19', '1995-11-30', '1994-11-25',\n",
       "       '2019-10-03', '2012-02-24', '2002-10-25', '2015-02-12',\n",
       "       '1960-10-28', '21-11-46', '1968-12-21', '2015-10-11', '1988-11-17',\n",
       "       '1937-03-12', '2012-08-29', '2013-01-17', '2001-01-19',\n",
       "       '2008-10-17', '1980-12-22', '1981-06-12', '2018-04-25',\n",
       "       '1979-10-25', '2019-04-24', '1979-12-18', '2005-05-06',\n",
       "       '1964-04-03', '1955-04-14', '2017-12-28', '2007-04-06',\n",
       "       '2018-12-25', '2009-12-25', '1984-09-28', '1945-06-25',\n",
       "       'The 6th of marzo, year 1951', '2009-10-02', '2000-01-21',\n",
       "       '1995-12-01', '1983-10-21', '1992-10-09', '2004-10-22',\n",
       "       '1996-03-22', '1998-03-06', '2001-03-16', '2000-12-15',\n",
       "       '1972-09-07', '2010-07-07', '1984-02-34', '1976-13-24',\n",
       "       '2002-01-25', '1987-10-09', '1986-09-24', '1968-12-12',\n",
       "       '1948-11-25', '2020-01-23', '1985-02-15', '1958-11-18',\n",
       "       '1959-10-28', '2012-11-22', '1963-10-29', '1974-03-21',\n",
       "       '1982-03-18', '1965-12-20', '2011-10-21', '1953-02-05'],\n",
       "      dtype=object)"
      ]
     },
     "execution_count": 14,
     "metadata": {},
     "output_type": "execute_result"
    }
   ],
   "source": [
    "#checking the format of the Release Year column\n",
    "idmb['Release year'].unique()"
   ]
  },
  {
   "cell_type": "markdown",
   "id": "e2bbe895-7d81-4d94-ac05-6403ab625e02",
   "metadata": {},
   "source": [
    "Next clean the string date time as much as possible so conversion can be easy.\n",
    "Using dateutil.parser (a powerful flexible date parser that can interpret many date formats without needing an explicit format string).\n",
    "clean_date_string(s):\n",
    "1. Check if there is any missing value and replace with NaN.\n",
    "2. Ensure that all dates are strings and remove white spaces from them (start and end).\n",
    "3. replacing . or / with - for consistency.\n",
    "4. removing multiple spaces\n",
    "\n",
    "\n",
    "safe_parse_date(s)\n",
    "1. attempts to change string to datetime format.\n",
    "2. dayfirst = False , meaning it expects the month to come before the day (MM-DD-YYYY), because most of my data is like that.\n",
    "3. if the format is unknown it catches the error and returns NaT (not a time).\n",
    "\n",
    "Finally apply to column"
   ]
  },
  {
   "cell_type": "code",
   "execution_count": 16,
   "id": "84b095b5-ecd3-45bf-b64c-c7b3790cf90d",
   "metadata": {},
   "outputs": [],
   "source": [
    "map={'The 6th of marzo, year 1951':'06-03-1951','23rd December of 1966 ':'23-12-1966','1984-02-34':'09-12-1983','1976-13-24':'08-02-1976'}\n",
    "\n",
    "idmb['Release year']=idmb['Release year'].replace(map,regex=False)\n",
    "\n",
    "idmb['Release year']=pd.to_datetime(idmb['Release year'], format ='mixed').dt.date\n",
    "\n",
    "idmb['Release year'] = pd.to_datetime(idmb['Release year'])\n"
   ]
  },
  {
   "cell_type": "code",
   "execution_count": 17,
   "id": "7cbd80d8-da2d-4302-b122-b0cc5d13f977",
   "metadata": {},
   "outputs": [
    {
     "data": {
      "text/html": [
       "<div>\n",
       "<style scoped>\n",
       "    .dataframe tbody tr th:only-of-type {\n",
       "        vertical-align: middle;\n",
       "    }\n",
       "\n",
       "    .dataframe tbody tr th {\n",
       "        vertical-align: top;\n",
       "    }\n",
       "\n",
       "    .dataframe thead th {\n",
       "        text-align: right;\n",
       "    }\n",
       "</style>\n",
       "<table border=\"1\" class=\"dataframe\">\n",
       "  <thead>\n",
       "    <tr style=\"text-align: right;\">\n",
       "      <th></th>\n",
       "      <th>IMBD title ID</th>\n",
       "      <th>Original titlÊ</th>\n",
       "      <th>Release year</th>\n",
       "      <th>Genrë¨</th>\n",
       "      <th>Duration</th>\n",
       "      <th>Country</th>\n",
       "      <th>Content Rating</th>\n",
       "      <th>Director</th>\n",
       "      <th>Income</th>\n",
       "      <th>Votes</th>\n",
       "      <th>Score</th>\n",
       "    </tr>\n",
       "  </thead>\n",
       "  <tbody>\n",
       "    <tr>\n",
       "      <th>0</th>\n",
       "      <td>tt0111161</td>\n",
       "      <td>The Shawshank Redemption</td>\n",
       "      <td>1995-02-10</td>\n",
       "      <td>Drama</td>\n",
       "      <td>142</td>\n",
       "      <td>USA</td>\n",
       "      <td>R</td>\n",
       "      <td>Frank Darabont</td>\n",
       "      <td>$ 28815245</td>\n",
       "      <td>2.278.845</td>\n",
       "      <td>9.3</td>\n",
       "    </tr>\n",
       "    <tr>\n",
       "      <th>1</th>\n",
       "      <td>tt0068646</td>\n",
       "      <td>The Godfather</td>\n",
       "      <td>1972-09-21</td>\n",
       "      <td>Crime, Drama</td>\n",
       "      <td>175</td>\n",
       "      <td>USA</td>\n",
       "      <td>R</td>\n",
       "      <td>Francis Ford Coppola</td>\n",
       "      <td>$ 246120974</td>\n",
       "      <td>1.572.674</td>\n",
       "      <td>9.2</td>\n",
       "    </tr>\n",
       "    <tr>\n",
       "      <th>2</th>\n",
       "      <td>tt0468569</td>\n",
       "      <td>The Dark Knight</td>\n",
       "      <td>2008-07-23</td>\n",
       "      <td>Action, Crime, Drama</td>\n",
       "      <td>152</td>\n",
       "      <td>US</td>\n",
       "      <td>PG-13</td>\n",
       "      <td>Christopher Nolan</td>\n",
       "      <td>$ 1005455211</td>\n",
       "      <td>2.241.615</td>\n",
       "      <td>9.</td>\n",
       "    </tr>\n",
       "    <tr>\n",
       "      <th>3</th>\n",
       "      <td>tt0071562</td>\n",
       "      <td>The Godfather: Part II</td>\n",
       "      <td>1975-09-25</td>\n",
       "      <td>Crime, Drama</td>\n",
       "      <td>220</td>\n",
       "      <td>USA</td>\n",
       "      <td>R</td>\n",
       "      <td>Francis Ford Coppola</td>\n",
       "      <td>$ 4o8,035,783</td>\n",
       "      <td>1.098.714</td>\n",
       "      <td>9,.0</td>\n",
       "    </tr>\n",
       "    <tr>\n",
       "      <th>4</th>\n",
       "      <td>tt0110912</td>\n",
       "      <td>Pulp Fiction</td>\n",
       "      <td>1994-10-28</td>\n",
       "      <td>Crime, Drama</td>\n",
       "      <td></td>\n",
       "      <td>USA</td>\n",
       "      <td>R</td>\n",
       "      <td>Quentin Tarantino</td>\n",
       "      <td>$ 222831817</td>\n",
       "      <td>1.780.147</td>\n",
       "      <td>8,9f</td>\n",
       "    </tr>\n",
       "    <tr>\n",
       "      <th>5</th>\n",
       "      <td>tt0167260</td>\n",
       "      <td>The Lord of the Rings: The Return of the King</td>\n",
       "      <td>2004-02-22</td>\n",
       "      <td>Action, Adventure, Drama</td>\n",
       "      <td>201</td>\n",
       "      <td>New Zealand</td>\n",
       "      <td>PG-13</td>\n",
       "      <td>Peter Jackson</td>\n",
       "      <td>$ 1142271098</td>\n",
       "      <td>1.604.280</td>\n",
       "      <td>08.9</td>\n",
       "    </tr>\n",
       "  </tbody>\n",
       "</table>\n",
       "</div>"
      ],
      "text/plain": [
       "  IMBD title ID                                 Original titlÊ Release year  \\\n",
       "0     tt0111161                       The Shawshank Redemption   1995-02-10   \n",
       "1     tt0068646                                  The Godfather   1972-09-21   \n",
       "2     tt0468569                                The Dark Knight   2008-07-23   \n",
       "3     tt0071562                         The Godfather: Part II   1975-09-25   \n",
       "4     tt0110912                                   Pulp Fiction   1994-10-28   \n",
       "5     tt0167260  The Lord of the Rings: The Return of the King   2004-02-22   \n",
       "\n",
       "                     Genrë¨ Duration      Country Content Rating  \\\n",
       "0                     Drama      142          USA              R   \n",
       "1              Crime, Drama      175          USA              R   \n",
       "2      Action, Crime, Drama      152           US          PG-13   \n",
       "3              Crime, Drama      220          USA              R   \n",
       "4              Crime, Drama                   USA              R   \n",
       "5  Action, Adventure, Drama      201  New Zealand          PG-13   \n",
       "\n",
       "               Director         Income      Votes Score  \n",
       "0        Frank Darabont     $ 28815245  2.278.845   9.3  \n",
       "1  Francis Ford Coppola    $ 246120974  1.572.674   9.2  \n",
       "2     Christopher Nolan   $ 1005455211  2.241.615    9.  \n",
       "3  Francis Ford Coppola  $ 4o8,035,783  1.098.714  9,.0  \n",
       "4     Quentin Tarantino    $ 222831817  1.780.147  8,9f  \n",
       "5         Peter Jackson   $ 1142271098  1.604.280  08.9  "
      ]
     },
     "execution_count": 17,
     "metadata": {},
     "output_type": "execute_result"
    }
   ],
   "source": [
    "idmb.head(6)"
   ]
  },
  {
   "cell_type": "markdown",
   "id": "fea2e2f7-48e0-4fca-bdb7-a8561d885f2c",
   "metadata": {},
   "source": [
    "Release Year column has been worked on, now it has 4 rows with null values after cleaning.\n",
    "Next column to work on is changing duration column to int"
   ]
  },
  {
   "cell_type": "code",
   "execution_count": 19,
   "id": "43550f61-a94d-4066-8d28-4665892ec24c",
   "metadata": {},
   "outputs": [
    {
     "data": {
      "text/plain": [
       "array(['142', '175', '152', '220', ' ', '201', 'Nan', '96', '148', 'Inf',\n",
       "       '178c', '161', nan, '179', 'Not Applicable', '146', '-', '169',\n",
       "       '127', '118', '121', '189', '130', '125', '116', '132', '207',\n",
       "       '155', '151', '119', '110', '137', '106', '88', '122', '112',\n",
       "       '150', '109', '102', '165', '89', '87', '164', '113', '98', '115',\n",
       "       '149', '117', '181', '147', '120', '95', '105', '170', '134',\n",
       "       '229', '153', '178', '131', '99', '108', '81', '126', '104', '136',\n",
       "       '103', '114', '160', '128', '228', '129', '123'], dtype=object)"
      ]
     },
     "execution_count": 19,
     "metadata": {},
     "output_type": "execute_result"
    }
   ],
   "source": [
    "#checking the format of the Duration column\n",
    "idmb['Duration'].unique()"
   ]
  },
  {
   "cell_type": "code",
   "execution_count": 20,
   "id": "69a4649b-9e48-4d4f-986e-dfeb8dc5b991",
   "metadata": {},
   "outputs": [],
   "source": [
    "#first replace the 'c' with ' '\n",
    "idmb['Duration'] = idmb['Duration'].str.replace('c', '', regex = True)\n",
    "#changing 'Duration' column to numeric\n",
    "idmb['Duration'] = pd.to_numeric(idmb['Duration'], errors = 'coerce')"
   ]
  },
  {
   "cell_type": "code",
   "execution_count": 21,
   "id": "ec662092-00a6-423d-a295-5abd7705baa3",
   "metadata": {},
   "outputs": [],
   "source": [
    "#6 movies have no duration. Their duration is ' ', 'Nan, 'Inf', 'nan', 'Not Applicable', and '-'. so we can check for them online and fill them"
   ]
  },
  {
   "cell_type": "code",
   "execution_count": 22,
   "id": "3884ab65-9b1a-4f5a-9d20-c0fce87f08c0",
   "metadata": {},
   "outputs": [
    {
     "data": {
      "text/plain": [
       "IMBD title ID      1\n",
       "Original titlÊ     1\n",
       "Release year       1\n",
       "Genrë¨             1\n",
       "Duration           6\n",
       "Country            1\n",
       "Content Rating    24\n",
       "Director           1\n",
       "Income             1\n",
       "Votes              1\n",
       "Score              1\n",
       "dtype: int64"
      ]
     },
     "execution_count": 22,
     "metadata": {},
     "output_type": "execute_result"
    }
   ],
   "source": [
    "idmb.isnull().sum()"
   ]
  },
  {
   "cell_type": "code",
   "execution_count": 23,
   "id": "0c7d4b4b-78e0-4c33-9314-9a2c37b75189",
   "metadata": {},
   "outputs": [
    {
     "data": {
      "text/plain": [
       "IMBD title ID             object\n",
       "Original titlÊ            object\n",
       "Release year      datetime64[ns]\n",
       "Genrë¨                    object\n",
       "Duration                 float64\n",
       "Country                   object\n",
       "Content Rating            object\n",
       "Director                  object\n",
       "Income                    object\n",
       "Votes                     object\n",
       "Score                     object\n",
       "dtype: object"
      ]
     },
     "execution_count": 23,
     "metadata": {},
     "output_type": "execute_result"
    }
   ],
   "source": [
    "idmb.dtypes"
   ]
  },
  {
   "cell_type": "code",
   "execution_count": 24,
   "id": "e8e2194f-466b-4e08-8e36-cfc582c2a8ce",
   "metadata": {},
   "outputs": [
    {
     "data": {
      "text/html": [
       "<div>\n",
       "<style scoped>\n",
       "    .dataframe tbody tr th:only-of-type {\n",
       "        vertical-align: middle;\n",
       "    }\n",
       "\n",
       "    .dataframe tbody tr th {\n",
       "        vertical-align: top;\n",
       "    }\n",
       "\n",
       "    .dataframe thead th {\n",
       "        text-align: right;\n",
       "    }\n",
       "</style>\n",
       "<table border=\"1\" class=\"dataframe\">\n",
       "  <thead>\n",
       "    <tr style=\"text-align: right;\">\n",
       "      <th></th>\n",
       "      <th>IMBD title ID</th>\n",
       "      <th>Original titlÊ</th>\n",
       "      <th>Release year</th>\n",
       "      <th>Genrë¨</th>\n",
       "      <th>Duration</th>\n",
       "      <th>Country</th>\n",
       "      <th>Content Rating</th>\n",
       "      <th>Director</th>\n",
       "      <th>Income</th>\n",
       "      <th>Votes</th>\n",
       "      <th>Score</th>\n",
       "    </tr>\n",
       "  </thead>\n",
       "  <tbody>\n",
       "    <tr>\n",
       "      <th>0</th>\n",
       "      <td>tt0111161</td>\n",
       "      <td>The Shawshank Redemption</td>\n",
       "      <td>1995-02-10</td>\n",
       "      <td>Drama</td>\n",
       "      <td>142.0</td>\n",
       "      <td>USA</td>\n",
       "      <td>R</td>\n",
       "      <td>Frank Darabont</td>\n",
       "      <td>$ 28815245</td>\n",
       "      <td>2.278.845</td>\n",
       "      <td>9.3</td>\n",
       "    </tr>\n",
       "    <tr>\n",
       "      <th>1</th>\n",
       "      <td>tt0068646</td>\n",
       "      <td>The Godfather</td>\n",
       "      <td>1972-09-21</td>\n",
       "      <td>Crime, Drama</td>\n",
       "      <td>175.0</td>\n",
       "      <td>USA</td>\n",
       "      <td>R</td>\n",
       "      <td>Francis Ford Coppola</td>\n",
       "      <td>$ 246120974</td>\n",
       "      <td>1.572.674</td>\n",
       "      <td>9.2</td>\n",
       "    </tr>\n",
       "    <tr>\n",
       "      <th>2</th>\n",
       "      <td>tt0468569</td>\n",
       "      <td>The Dark Knight</td>\n",
       "      <td>2008-07-23</td>\n",
       "      <td>Action, Crime, Drama</td>\n",
       "      <td>152.0</td>\n",
       "      <td>US</td>\n",
       "      <td>PG-13</td>\n",
       "      <td>Christopher Nolan</td>\n",
       "      <td>$ 1005455211</td>\n",
       "      <td>2.241.615</td>\n",
       "      <td>9.</td>\n",
       "    </tr>\n",
       "    <tr>\n",
       "      <th>3</th>\n",
       "      <td>tt0071562</td>\n",
       "      <td>The Godfather: Part II</td>\n",
       "      <td>1975-09-25</td>\n",
       "      <td>Crime, Drama</td>\n",
       "      <td>220.0</td>\n",
       "      <td>USA</td>\n",
       "      <td>R</td>\n",
       "      <td>Francis Ford Coppola</td>\n",
       "      <td>$ 4o8,035,783</td>\n",
       "      <td>1.098.714</td>\n",
       "      <td>9,.0</td>\n",
       "    </tr>\n",
       "    <tr>\n",
       "      <th>4</th>\n",
       "      <td>tt0110912</td>\n",
       "      <td>Pulp Fiction</td>\n",
       "      <td>1994-10-28</td>\n",
       "      <td>Crime, Drama</td>\n",
       "      <td>NaN</td>\n",
       "      <td>USA</td>\n",
       "      <td>R</td>\n",
       "      <td>Quentin Tarantino</td>\n",
       "      <td>$ 222831817</td>\n",
       "      <td>1.780.147</td>\n",
       "      <td>8,9f</td>\n",
       "    </tr>\n",
       "  </tbody>\n",
       "</table>\n",
       "</div>"
      ],
      "text/plain": [
       "  IMBD title ID            Original titlÊ Release year                Genrë¨  \\\n",
       "0     tt0111161  The Shawshank Redemption   1995-02-10                 Drama   \n",
       "1     tt0068646             The Godfather   1972-09-21          Crime, Drama   \n",
       "2     tt0468569           The Dark Knight   2008-07-23  Action, Crime, Drama   \n",
       "3     tt0071562    The Godfather: Part II   1975-09-25          Crime, Drama   \n",
       "4     tt0110912              Pulp Fiction   1994-10-28          Crime, Drama   \n",
       "\n",
       "   Duration Country Content Rating              Director         Income  \\\n",
       "0     142.0     USA              R        Frank Darabont     $ 28815245   \n",
       "1     175.0     USA              R  Francis Ford Coppola    $ 246120974   \n",
       "2     152.0      US          PG-13     Christopher Nolan   $ 1005455211   \n",
       "3     220.0     USA              R  Francis Ford Coppola  $ 4o8,035,783   \n",
       "4       NaN     USA              R     Quentin Tarantino    $ 222831817   \n",
       "\n",
       "       Votes Score  \n",
       "0  2.278.845   9.3  \n",
       "1  1.572.674   9.2  \n",
       "2  2.241.615    9.  \n",
       "3  1.098.714  9,.0  \n",
       "4  1.780.147  8,9f  "
      ]
     },
     "execution_count": 24,
     "metadata": {},
     "output_type": "execute_result"
    }
   ],
   "source": [
    "idmb.head()"
   ]
  },
  {
   "cell_type": "code",
   "execution_count": 25,
   "id": "a2afe4aa-0e9d-4796-a3c0-293be2e7823d",
   "metadata": {},
   "outputs": [
    {
     "data": {
      "text/plain": [
       "IMBD title ID             object\n",
       "Original titlÊ            object\n",
       "Release year      datetime64[ns]\n",
       "Genrë¨                    object\n",
       "Duration                 float64\n",
       "Country                   object\n",
       "Content Rating            object\n",
       "Director                  object\n",
       "Income                    object\n",
       "Votes                     object\n",
       "Score                     object\n",
       "dtype: object"
      ]
     },
     "execution_count": 25,
     "metadata": {},
     "output_type": "execute_result"
    }
   ],
   "source": [
    "idmb.dtypes"
   ]
  },
  {
   "cell_type": "code",
   "execution_count": 26,
   "id": "ec3b70a0-943e-4cf6-ae39-3f5259466011",
   "metadata": {},
   "outputs": [
    {
     "data": {
      "text/plain": [
       "IMBD title ID      1\n",
       "Original titlÊ     1\n",
       "Release year       1\n",
       "Genrë¨             1\n",
       "Duration           6\n",
       "Country            1\n",
       "Content Rating    24\n",
       "Director           1\n",
       "Income             1\n",
       "Votes              1\n",
       "Score              1\n",
       "dtype: int64"
      ]
     },
     "execution_count": 26,
     "metadata": {},
     "output_type": "execute_result"
    }
   ],
   "source": [
    "idmb.isnull().sum()"
   ]
  },
  {
   "cell_type": "code",
   "execution_count": 27,
   "id": "59e16fa5-32c9-48a7-98fc-da922b6e9d00",
   "metadata": {},
   "outputs": [
    {
     "data": {
      "text/plain": [
       "Country\n",
       "USA             62\n",
       "UK              12\n",
       "Italy            4\n",
       "Japan            4\n",
       "France           3\n",
       "South Korea      2\n",
       "Germany          2\n",
       "New Zesland      1\n",
       "New Zealand      1\n",
       "New Zeland       1\n",
       "US.              1\n",
       "Brazil           1\n",
       "US               1\n",
       "Italy1           1\n",
       "India            1\n",
       "Denmark          1\n",
       "West Germany     1\n",
       "Iran             1\n",
       "Name: count, dtype: int64"
      ]
     },
     "execution_count": 27,
     "metadata": {},
     "output_type": "execute_result"
    }
   ],
   "source": [
    "#count the value in Country\n",
    "idmb['Country'].value_counts()"
   ]
  },
  {
   "cell_type": "markdown",
   "id": "395adbfd-599e-40b1-8e71-56afc53598f0",
   "metadata": {},
   "source": [
    "After looking at the value count in country, some country have typo so they are called twice"
   ]
  },
  {
   "cell_type": "code",
   "execution_count": 29,
   "id": "f84649e9-e8e9-4503-8e3b-5b84e8de1634",
   "metadata": {},
   "outputs": [],
   "source": [
    "#replacing countries\n",
    "map = {\n",
    "    'US.': 'USA',\n",
    "    'US': 'USA',\n",
    "    'New Zesland': 'New Zealand',\n",
    "    'New Zeland': 'New Zealand',\n",
    "    'Italy1': 'Italy',\n",
    "    'West Germany': 'Germany'\n",
    "}\n",
    "\n",
    "idmb['Country'] = idmb['Country'].replace(map, regex=False)"
   ]
  },
  {
   "cell_type": "code",
   "execution_count": 30,
   "id": "30ed9c4d-babd-4cbc-ab22-5326b8d80f48",
   "metadata": {},
   "outputs": [],
   "source": [
    "#changing country column to category\n",
    "idmb[['Country', 'Content Rating']] = idmb[['Country', 'Content Rating']].astype('category')\t"
   ]
  },
  {
   "cell_type": "code",
   "execution_count": 31,
   "id": "a3c2e70a-7667-4bf9-9975-af6b83d2d835",
   "metadata": {},
   "outputs": [
    {
     "data": {
      "text/plain": [
       "Country\n",
       "USA            64\n",
       "UK             12\n",
       "Italy           5\n",
       "Japan           4\n",
       "France          3\n",
       "Germany         3\n",
       "New Zealand     3\n",
       "South Korea     2\n",
       "Brazil          1\n",
       "Denmark         1\n",
       "India           1\n",
       "Iran            1\n",
       "Name: count, dtype: int64"
      ]
     },
     "execution_count": 31,
     "metadata": {},
     "output_type": "execute_result"
    }
   ],
   "source": [
    "#count the value in Country\n",
    "idmb['Country'].value_counts()"
   ]
  },
  {
   "cell_type": "code",
   "execution_count": 32,
   "id": "509c7a9e-2774-433d-8c1d-51ee447ef8da",
   "metadata": {},
   "outputs": [
    {
     "data": {
      "text/plain": [
       "Content Rating\n",
       "R            45\n",
       "PG-13        12\n",
       "PG           11\n",
       "G             6\n",
       "Approved      1\n",
       "Not Rated     1\n",
       "Unrated       1\n",
       "Name: count, dtype: int64"
      ]
     },
     "execution_count": 32,
     "metadata": {},
     "output_type": "execute_result"
    }
   ],
   "source": [
    "idmb['Content Rating'].value_counts()"
   ]
  },
  {
   "cell_type": "code",
   "execution_count": 33,
   "id": "93bf5cef-c111-4a92-a2aa-c57b94d891ae",
   "metadata": {},
   "outputs": [
    {
     "data": {
      "text/html": [
       "<div>\n",
       "<style scoped>\n",
       "    .dataframe tbody tr th:only-of-type {\n",
       "        vertical-align: middle;\n",
       "    }\n",
       "\n",
       "    .dataframe tbody tr th {\n",
       "        vertical-align: top;\n",
       "    }\n",
       "\n",
       "    .dataframe thead th {\n",
       "        text-align: right;\n",
       "    }\n",
       "</style>\n",
       "<table border=\"1\" class=\"dataframe\">\n",
       "  <thead>\n",
       "    <tr style=\"text-align: right;\">\n",
       "      <th></th>\n",
       "      <th>IMBD title ID</th>\n",
       "      <th>Original titlÊ</th>\n",
       "      <th>Release year</th>\n",
       "      <th>Genrë¨</th>\n",
       "      <th>Duration</th>\n",
       "      <th>Country</th>\n",
       "      <th>Content Rating</th>\n",
       "      <th>Director</th>\n",
       "      <th>Income</th>\n",
       "      <th>Votes</th>\n",
       "      <th>Score</th>\n",
       "    </tr>\n",
       "  </thead>\n",
       "  <tbody>\n",
       "    <tr>\n",
       "      <th>13</th>\n",
       "      <td>NaN</td>\n",
       "      <td>NaN</td>\n",
       "      <td>NaT</td>\n",
       "      <td>NaN</td>\n",
       "      <td>NaN</td>\n",
       "      <td>NaN</td>\n",
       "      <td>NaN</td>\n",
       "      <td>NaN</td>\n",
       "      <td>NaN</td>\n",
       "      <td>NaN</td>\n",
       "      <td>NaN</td>\n",
       "    </tr>\n",
       "    <tr>\n",
       "      <th>27</th>\n",
       "      <td>tt0118799</td>\n",
       "      <td>La vita B9 bella</td>\n",
       "      <td>1997-12-20</td>\n",
       "      <td>Comedy, Drama, Romance</td>\n",
       "      <td>116.0</td>\n",
       "      <td>Italy</td>\n",
       "      <td>NaN</td>\n",
       "      <td>Roberto Benigni</td>\n",
       "      <td>$ 230098753</td>\n",
       "      <td>605.648</td>\n",
       "      <td>8.6</td>\n",
       "    </tr>\n",
       "    <tr>\n",
       "      <th>28</th>\n",
       "      <td>tt6751668</td>\n",
       "      <td>Gisaengchung</td>\n",
       "      <td>2019-11-07</td>\n",
       "      <td>Comedy, Drama, Thriller</td>\n",
       "      <td>132.0</td>\n",
       "      <td>South Korea</td>\n",
       "      <td>NaN</td>\n",
       "      <td>Bong Joon Ho</td>\n",
       "      <td>$ 257604912</td>\n",
       "      <td>470.931</td>\n",
       "      <td>8.6</td>\n",
       "    </tr>\n",
       "    <tr>\n",
       "      <th>36</th>\n",
       "      <td>tt0110413</td>\n",
       "      <td>LÃ©on</td>\n",
       "      <td>1995-04-07</td>\n",
       "      <td>Action, Crime, Drama</td>\n",
       "      <td>110.0</td>\n",
       "      <td>France</td>\n",
       "      <td>NaN</td>\n",
       "      <td>Luc Besson</td>\n",
       "      <td>$ 19552639</td>\n",
       "      <td>1.007.598</td>\n",
       "      <td>8.5</td>\n",
       "    </tr>\n",
       "    <tr>\n",
       "      <th>40</th>\n",
       "      <td>tt7286456</td>\n",
       "      <td>Joker</td>\n",
       "      <td>2019-10-03</td>\n",
       "      <td>Crime, Drama, Thriller</td>\n",
       "      <td>122.0</td>\n",
       "      <td>USA</td>\n",
       "      <td>NaN</td>\n",
       "      <td>Todd Phillips</td>\n",
       "      <td>$ 1074251311</td>\n",
       "      <td>855.097</td>\n",
       "      <td>8.4</td>\n",
       "    </tr>\n",
       "    <tr>\n",
       "      <th>41</th>\n",
       "      <td>tt1675434</td>\n",
       "      <td>Intouchables</td>\n",
       "      <td>2012-02-24</td>\n",
       "      <td>Biography, Comedy, Drama</td>\n",
       "      <td>112.0</td>\n",
       "      <td>France</td>\n",
       "      <td>NaN</td>\n",
       "      <td>Olivier Nakache, Ã‰ric Toledano</td>\n",
       "      <td>$ 426588510</td>\n",
       "      <td>736.691</td>\n",
       "      <td>8.4</td>\n",
       "    </tr>\n",
       "    <tr>\n",
       "      <th>47</th>\n",
       "      <td>tt0095327</td>\n",
       "      <td>Hotaru no haka</td>\n",
       "      <td>2015-10-11</td>\n",
       "      <td>Animation, Drama, War</td>\n",
       "      <td>89.0</td>\n",
       "      <td>Japan</td>\n",
       "      <td>NaN</td>\n",
       "      <td>Isao Takahata</td>\n",
       "      <td>$ 516962</td>\n",
       "      <td>225.438</td>\n",
       "      <td>8.3</td>\n",
       "    </tr>\n",
       "    <tr>\n",
       "      <th>48</th>\n",
       "      <td>tt0095765</td>\n",
       "      <td>Nuovo Cinema Paradiso</td>\n",
       "      <td>1988-11-17</td>\n",
       "      <td>Drama</td>\n",
       "      <td>155.0</td>\n",
       "      <td>Italy</td>\n",
       "      <td>NaN</td>\n",
       "      <td>Giuseppe Tornatore</td>\n",
       "      <td>$ 13826605</td>\n",
       "      <td>223.050</td>\n",
       "      <td>8.3</td>\n",
       "    </tr>\n",
       "    <tr>\n",
       "      <th>56</th>\n",
       "      <td>tt4154756</td>\n",
       "      <td>Avengers: Infinity War</td>\n",
       "      <td>2018-04-25</td>\n",
       "      <td>Action, Adventure, Sci-Fi</td>\n",
       "      <td>149.0</td>\n",
       "      <td>USA</td>\n",
       "      <td>NaN</td>\n",
       "      <td>Anthony Russo, Joe Russo</td>\n",
       "      <td>$ 2048359754</td>\n",
       "      <td>796.486</td>\n",
       "      <td>8.2</td>\n",
       "    </tr>\n",
       "    <tr>\n",
       "      <th>58</th>\n",
       "      <td>tt4154796</td>\n",
       "      <td>Avengers: Endgame</td>\n",
       "      <td>2019-04-24</td>\n",
       "      <td>Action, Adventure, Drama</td>\n",
       "      <td>181.0</td>\n",
       "      <td>USA</td>\n",
       "      <td>NaN</td>\n",
       "      <td>Anthony Russo, Joe Russo</td>\n",
       "      <td>$ 2797800564</td>\n",
       "      <td>754.786</td>\n",
       "      <td>8.2</td>\n",
       "    </tr>\n",
       "    <tr>\n",
       "      <th>62</th>\n",
       "      <td>tt0047396</td>\n",
       "      <td>Rear Window</td>\n",
       "      <td>1955-04-14</td>\n",
       "      <td>Mystery, Thriller</td>\n",
       "      <td>112.0</td>\n",
       "      <td>USA</td>\n",
       "      <td>NaN</td>\n",
       "      <td>Alfred Hitchcock</td>\n",
       "      <td>$ 37032034</td>\n",
       "      <td>432.390</td>\n",
       "      <td>8.1</td>\n",
       "    </tr>\n",
       "    <tr>\n",
       "      <th>63</th>\n",
       "      <td>tt2380307</td>\n",
       "      <td>Coco</td>\n",
       "      <td>2017-12-28</td>\n",
       "      <td>Animation, Adventure, Family</td>\n",
       "      <td>105.0</td>\n",
       "      <td>USA</td>\n",
       "      <td>NaN</td>\n",
       "      <td>Lee Unkrich, Adrian Molina</td>\n",
       "      <td>$ 807083670</td>\n",
       "      <td>352.455</td>\n",
       "      <td>8.1</td>\n",
       "    </tr>\n",
       "    <tr>\n",
       "      <th>65</th>\n",
       "      <td>tt4633694</td>\n",
       "      <td>Spider-Man: Into the Spider-Verse</td>\n",
       "      <td>2018-12-25</td>\n",
       "      <td>Animation, Action, Adventure</td>\n",
       "      <td>117.0</td>\n",
       "      <td>USA</td>\n",
       "      <td>NaN</td>\n",
       "      <td>Bob Persichetti, Peter Ramsey</td>\n",
       "      <td>$ 375540831</td>\n",
       "      <td>335.892</td>\n",
       "      <td>8.1</td>\n",
       "    </tr>\n",
       "    <tr>\n",
       "      <th>66</th>\n",
       "      <td>tt1187043</td>\n",
       "      <td>3 Idiots</td>\n",
       "      <td>2009-12-25</td>\n",
       "      <td>Comedy, Drama</td>\n",
       "      <td>170.0</td>\n",
       "      <td>India</td>\n",
       "      <td>NaN</td>\n",
       "      <td>Rajkumar Hirani</td>\n",
       "      <td>$ 60262836</td>\n",
       "      <td>332.217</td>\n",
       "      <td>8.1</td>\n",
       "    </tr>\n",
       "    <tr>\n",
       "      <th>69</th>\n",
       "      <td>tt0032553</td>\n",
       "      <td>The Great Dictator</td>\n",
       "      <td>1945-06-25</td>\n",
       "      <td>Comedy, Drama, War</td>\n",
       "      <td>125.0</td>\n",
       "      <td>USA</td>\n",
       "      <td>NaN</td>\n",
       "      <td>Charles Chaplin</td>\n",
       "      <td>$ 969879</td>\n",
       "      <td>197.381</td>\n",
       "      <td>8.0</td>\n",
       "    </tr>\n",
       "    <tr>\n",
       "      <th>70</th>\n",
       "      <td>tt0043014</td>\n",
       "      <td>Sunset Blvd.</td>\n",
       "      <td>1951-06-03</td>\n",
       "      <td>Drama, Film-Noir</td>\n",
       "      <td>110.0</td>\n",
       "      <td>USA</td>\n",
       "      <td>NaN</td>\n",
       "      <td>Billy Wilder</td>\n",
       "      <td>$ 299645</td>\n",
       "      <td>195.789</td>\n",
       "      <td>8.0</td>\n",
       "    </tr>\n",
       "    <tr>\n",
       "      <th>81</th>\n",
       "      <td>tt0066921</td>\n",
       "      <td>A Clockwork Orange</td>\n",
       "      <td>1972-09-07</td>\n",
       "      <td>Crime, Drama, Sci-Fi</td>\n",
       "      <td>136.0</td>\n",
       "      <td>UK</td>\n",
       "      <td>NaN</td>\n",
       "      <td>Stanley Kubrick</td>\n",
       "      <td>$ 26903440</td>\n",
       "      <td>740.301</td>\n",
       "      <td>7.8</td>\n",
       "    </tr>\n",
       "    <tr>\n",
       "      <th>86</th>\n",
       "      <td>tt0093058</td>\n",
       "      <td>Full Metal Jacket</td>\n",
       "      <td>1987-10-09</td>\n",
       "      <td>Drama, War</td>\n",
       "      <td>116.0</td>\n",
       "      <td>UK</td>\n",
       "      <td>NaN</td>\n",
       "      <td>Stanley Kubrick</td>\n",
       "      <td>$ 46357676</td>\n",
       "      <td>658.175</td>\n",
       "      <td>7.7</td>\n",
       "    </tr>\n",
       "    <tr>\n",
       "      <th>89</th>\n",
       "      <td>tt0033467</td>\n",
       "      <td>Citizen Kane</td>\n",
       "      <td>1948-11-25</td>\n",
       "      <td>Drama, Mystery</td>\n",
       "      <td>119.0</td>\n",
       "      <td>USA</td>\n",
       "      <td>NaN</td>\n",
       "      <td>Orson Welles</td>\n",
       "      <td>$ 1594107</td>\n",
       "      <td>389.322</td>\n",
       "      <td>7.6</td>\n",
       "    </tr>\n",
       "    <tr>\n",
       "      <th>90</th>\n",
       "      <td>tt8579674</td>\n",
       "      <td>1917</td>\n",
       "      <td>2020-01-23</td>\n",
       "      <td>Drama, War</td>\n",
       "      <td>119.0</td>\n",
       "      <td>USA</td>\n",
       "      <td>NaN</td>\n",
       "      <td>Sam Mendes</td>\n",
       "      <td>$ 384857224</td>\n",
       "      <td>362.897</td>\n",
       "      <td>7.6</td>\n",
       "    </tr>\n",
       "    <tr>\n",
       "      <th>92</th>\n",
       "      <td>tt0052357</td>\n",
       "      <td>Vertigo</td>\n",
       "      <td>1958-11-18</td>\n",
       "      <td>Mystery, Romance, Thriller</td>\n",
       "      <td>128.0</td>\n",
       "      <td>USA</td>\n",
       "      <td>NaN</td>\n",
       "      <td>Alfred Hitchcock</td>\n",
       "      <td>$ 7796389</td>\n",
       "      <td>352.786</td>\n",
       "      <td>7.5</td>\n",
       "    </tr>\n",
       "    <tr>\n",
       "      <th>93</th>\n",
       "      <td>tt0053125</td>\n",
       "      <td>North by Northwest</td>\n",
       "      <td>1959-10-28</td>\n",
       "      <td>Adventure, Mystery, Thriller</td>\n",
       "      <td>136.0</td>\n",
       "      <td>USA</td>\n",
       "      <td>NaN</td>\n",
       "      <td>Alfred Hitchcock</td>\n",
       "      <td>$ 73446</td>\n",
       "      <td>291.628</td>\n",
       "      <td>7.5</td>\n",
       "    </tr>\n",
       "    <tr>\n",
       "      <th>98</th>\n",
       "      <td>tt0059578</td>\n",
       "      <td>Per qualche dollaro in piÃ¹</td>\n",
       "      <td>1965-12-20</td>\n",
       "      <td>Western</td>\n",
       "      <td>132.0</td>\n",
       "      <td>Italy</td>\n",
       "      <td>NaN</td>\n",
       "      <td>Sergio Leone</td>\n",
       "      <td>$ 15000000</td>\n",
       "      <td>226.039</td>\n",
       "      <td>7.4</td>\n",
       "    </tr>\n",
       "    <tr>\n",
       "      <th>100</th>\n",
       "      <td>tt0045152</td>\n",
       "      <td>Singin' in the Rain</td>\n",
       "      <td>1953-02-05</td>\n",
       "      <td>Comedy, Musical, Romance</td>\n",
       "      <td>103.0</td>\n",
       "      <td>USA</td>\n",
       "      <td>NaN</td>\n",
       "      <td>Stanley Donen</td>\n",
       "      <td>$ 1864182</td>\n",
       "      <td>213.152</td>\n",
       "      <td>7.4</td>\n",
       "    </tr>\n",
       "  </tbody>\n",
       "</table>\n",
       "</div>"
      ],
      "text/plain": [
       "    IMBD title ID                     Original titlÊ Release year  \\\n",
       "13            NaN                                NaN          NaT   \n",
       "27      tt0118799                   La vita B9 bella   1997-12-20   \n",
       "28      tt6751668                       Gisaengchung   2019-11-07   \n",
       "36      tt0110413                              LÃ©on   1995-04-07   \n",
       "40      tt7286456                              Joker   2019-10-03   \n",
       "41      tt1675434                       Intouchables   2012-02-24   \n",
       "47      tt0095327                     Hotaru no haka   2015-10-11   \n",
       "48      tt0095765              Nuovo Cinema Paradiso   1988-11-17   \n",
       "56      tt4154756             Avengers: Infinity War   2018-04-25   \n",
       "58      tt4154796                  Avengers: Endgame   2019-04-24   \n",
       "62      tt0047396                        Rear Window   1955-04-14   \n",
       "63      tt2380307                               Coco   2017-12-28   \n",
       "65      tt4633694  Spider-Man: Into the Spider-Verse   2018-12-25   \n",
       "66      tt1187043                           3 Idiots   2009-12-25   \n",
       "69      tt0032553                 The Great Dictator   1945-06-25   \n",
       "70      tt0043014                       Sunset Blvd.   1951-06-03   \n",
       "81      tt0066921                 A Clockwork Orange   1972-09-07   \n",
       "86      tt0093058                  Full Metal Jacket   1987-10-09   \n",
       "89      tt0033467                       Citizen Kane   1948-11-25   \n",
       "90      tt8579674                               1917   2020-01-23   \n",
       "92      tt0052357                            Vertigo   1958-11-18   \n",
       "93      tt0053125                 North by Northwest   1959-10-28   \n",
       "98      tt0059578        Per qualche dollaro in piÃ¹   1965-12-20   \n",
       "100     tt0045152                Singin' in the Rain   1953-02-05   \n",
       "\n",
       "                           Genrë¨  Duration      Country Content Rating  \\\n",
       "13                            NaN       NaN          NaN            NaN   \n",
       "27         Comedy, Drama, Romance     116.0        Italy            NaN   \n",
       "28        Comedy, Drama, Thriller     132.0  South Korea            NaN   \n",
       "36           Action, Crime, Drama     110.0       France            NaN   \n",
       "40         Crime, Drama, Thriller     122.0          USA            NaN   \n",
       "41       Biography, Comedy, Drama     112.0       France            NaN   \n",
       "47          Animation, Drama, War      89.0        Japan            NaN   \n",
       "48                          Drama     155.0        Italy            NaN   \n",
       "56      Action, Adventure, Sci-Fi     149.0          USA            NaN   \n",
       "58       Action, Adventure, Drama     181.0          USA            NaN   \n",
       "62              Mystery, Thriller     112.0          USA            NaN   \n",
       "63   Animation, Adventure, Family     105.0          USA            NaN   \n",
       "65   Animation, Action, Adventure     117.0          USA            NaN   \n",
       "66                  Comedy, Drama     170.0        India            NaN   \n",
       "69             Comedy, Drama, War     125.0          USA            NaN   \n",
       "70               Drama, Film-Noir     110.0          USA            NaN   \n",
       "81           Crime, Drama, Sci-Fi     136.0           UK            NaN   \n",
       "86                     Drama, War     116.0           UK            NaN   \n",
       "89                 Drama, Mystery     119.0          USA            NaN   \n",
       "90                     Drama, War     119.0          USA            NaN   \n",
       "92     Mystery, Romance, Thriller     128.0          USA            NaN   \n",
       "93   Adventure, Mystery, Thriller     136.0          USA            NaN   \n",
       "98                        Western     132.0        Italy            NaN   \n",
       "100      Comedy, Musical, Romance     103.0          USA            NaN   \n",
       "\n",
       "                            Director        Income      Votes Score  \n",
       "13                               NaN           NaN        NaN   NaN  \n",
       "27                   Roberto Benigni   $ 230098753    605.648   8.6  \n",
       "28                      Bong Joon Ho   $ 257604912    470.931   8.6  \n",
       "36                        Luc Besson    $ 19552639  1.007.598   8.5  \n",
       "40                     Todd Phillips  $ 1074251311    855.097   8.4  \n",
       "41   Olivier Nakache, Ã‰ric Toledano   $ 426588510    736.691   8.4  \n",
       "47                     Isao Takahata      $ 516962    225.438   8.3  \n",
       "48                Giuseppe Tornatore    $ 13826605    223.050   8.3  \n",
       "56          Anthony Russo, Joe Russo  $ 2048359754    796.486   8.2  \n",
       "58          Anthony Russo, Joe Russo  $ 2797800564    754.786   8.2  \n",
       "62                  Alfred Hitchcock    $ 37032034    432.390   8.1  \n",
       "63        Lee Unkrich, Adrian Molina   $ 807083670    352.455   8.1  \n",
       "65     Bob Persichetti, Peter Ramsey   $ 375540831    335.892   8.1  \n",
       "66                   Rajkumar Hirani    $ 60262836    332.217   8.1  \n",
       "69                   Charles Chaplin      $ 969879    197.381   8.0  \n",
       "70                      Billy Wilder      $ 299645    195.789   8.0  \n",
       "81                   Stanley Kubrick    $ 26903440    740.301   7.8  \n",
       "86                   Stanley Kubrick    $ 46357676    658.175   7.7  \n",
       "89                      Orson Welles     $ 1594107    389.322   7.6  \n",
       "90                        Sam Mendes   $ 384857224    362.897   7.6  \n",
       "92                  Alfred Hitchcock     $ 7796389    352.786   7.5  \n",
       "93                  Alfred Hitchcock       $ 73446    291.628   7.5  \n",
       "98                      Sergio Leone    $ 15000000    226.039   7.4  \n",
       "100                    Stanley Donen     $ 1864182    213.152   7.4  "
      ]
     },
     "execution_count": 33,
     "metadata": {},
     "output_type": "execute_result"
    }
   ],
   "source": [
    "#returns any row with atleast one missing value\n",
    "idmb[idmb['Content Rating'].isnull()]"
   ]
  },
  {
   "cell_type": "code",
   "execution_count": 34,
   "id": "d696eda8-f697-47c3-9a72-9ecfddb3738a",
   "metadata": {},
   "outputs": [],
   "source": [
    "#harmonizing not rated and unrated to be unrated\n",
    "idmb['Content Rating'] = idmb['Content Rating'].str.replace('Not Rated', 'Unrated', regex = True)\n",
    "\n",
    "#also fill missing value with unrated\n",
    "idmb['Content Rating'] = idmb['Content Rating'].fillna('Unrated')"
   ]
  },
  {
   "cell_type": "markdown",
   "id": "7f7f7691-d4dc-4237-a670-f6d81b48745e",
   "metadata": {},
   "source": [
    "HANDLING INCOME COLUMN"
   ]
  },
  {
   "cell_type": "code",
   "execution_count": 36,
   "id": "604cc05a-63cb-4519-a1d0-666868d28e7c",
   "metadata": {},
   "outputs": [
    {
     "data": {
      "text/html": [
       "<div>\n",
       "<style scoped>\n",
       "    .dataframe tbody tr th:only-of-type {\n",
       "        vertical-align: middle;\n",
       "    }\n",
       "\n",
       "    .dataframe tbody tr th {\n",
       "        vertical-align: top;\n",
       "    }\n",
       "\n",
       "    .dataframe thead th {\n",
       "        text-align: right;\n",
       "    }\n",
       "</style>\n",
       "<table border=\"1\" class=\"dataframe\">\n",
       "  <thead>\n",
       "    <tr style=\"text-align: right;\">\n",
       "      <th></th>\n",
       "      <th>IMBD title ID</th>\n",
       "      <th>Original titlÊ</th>\n",
       "      <th>Release year</th>\n",
       "      <th>Genrë¨</th>\n",
       "      <th>Duration</th>\n",
       "      <th>Country</th>\n",
       "      <th>Content Rating</th>\n",
       "      <th>Director</th>\n",
       "      <th>Income</th>\n",
       "      <th>Votes</th>\n",
       "      <th>Score</th>\n",
       "    </tr>\n",
       "  </thead>\n",
       "  <tbody>\n",
       "    <tr>\n",
       "      <th>0</th>\n",
       "      <td>tt0111161</td>\n",
       "      <td>The Shawshank Redemption</td>\n",
       "      <td>1995-02-10</td>\n",
       "      <td>Drama</td>\n",
       "      <td>142.0</td>\n",
       "      <td>USA</td>\n",
       "      <td>R</td>\n",
       "      <td>Frank Darabont</td>\n",
       "      <td>$ 28815245</td>\n",
       "      <td>2.278.845</td>\n",
       "      <td>9.3</td>\n",
       "    </tr>\n",
       "    <tr>\n",
       "      <th>1</th>\n",
       "      <td>tt0068646</td>\n",
       "      <td>The Godfather</td>\n",
       "      <td>1972-09-21</td>\n",
       "      <td>Crime, Drama</td>\n",
       "      <td>175.0</td>\n",
       "      <td>USA</td>\n",
       "      <td>R</td>\n",
       "      <td>Francis Ford Coppola</td>\n",
       "      <td>$ 246120974</td>\n",
       "      <td>1.572.674</td>\n",
       "      <td>9.2</td>\n",
       "    </tr>\n",
       "    <tr>\n",
       "      <th>2</th>\n",
       "      <td>tt0468569</td>\n",
       "      <td>The Dark Knight</td>\n",
       "      <td>2008-07-23</td>\n",
       "      <td>Action, Crime, Drama</td>\n",
       "      <td>152.0</td>\n",
       "      <td>USA</td>\n",
       "      <td>PG-13</td>\n",
       "      <td>Christopher Nolan</td>\n",
       "      <td>$ 1005455211</td>\n",
       "      <td>2.241.615</td>\n",
       "      <td>9.</td>\n",
       "    </tr>\n",
       "    <tr>\n",
       "      <th>3</th>\n",
       "      <td>tt0071562</td>\n",
       "      <td>The Godfather: Part II</td>\n",
       "      <td>1975-09-25</td>\n",
       "      <td>Crime, Drama</td>\n",
       "      <td>220.0</td>\n",
       "      <td>USA</td>\n",
       "      <td>R</td>\n",
       "      <td>Francis Ford Coppola</td>\n",
       "      <td>$ 4o8,035,783</td>\n",
       "      <td>1.098.714</td>\n",
       "      <td>9,.0</td>\n",
       "    </tr>\n",
       "    <tr>\n",
       "      <th>4</th>\n",
       "      <td>tt0110912</td>\n",
       "      <td>Pulp Fiction</td>\n",
       "      <td>1994-10-28</td>\n",
       "      <td>Crime, Drama</td>\n",
       "      <td>NaN</td>\n",
       "      <td>USA</td>\n",
       "      <td>R</td>\n",
       "      <td>Quentin Tarantino</td>\n",
       "      <td>$ 222831817</td>\n",
       "      <td>1.780.147</td>\n",
       "      <td>8,9f</td>\n",
       "    </tr>\n",
       "  </tbody>\n",
       "</table>\n",
       "</div>"
      ],
      "text/plain": [
       "  IMBD title ID            Original titlÊ Release year                Genrë¨  \\\n",
       "0     tt0111161  The Shawshank Redemption   1995-02-10                 Drama   \n",
       "1     tt0068646             The Godfather   1972-09-21          Crime, Drama   \n",
       "2     tt0468569           The Dark Knight   2008-07-23  Action, Crime, Drama   \n",
       "3     tt0071562    The Godfather: Part II   1975-09-25          Crime, Drama   \n",
       "4     tt0110912              Pulp Fiction   1994-10-28          Crime, Drama   \n",
       "\n",
       "   Duration Country Content Rating              Director         Income  \\\n",
       "0     142.0     USA              R        Frank Darabont     $ 28815245   \n",
       "1     175.0     USA              R  Francis Ford Coppola    $ 246120974   \n",
       "2     152.0     USA          PG-13     Christopher Nolan   $ 1005455211   \n",
       "3     220.0     USA              R  Francis Ford Coppola  $ 4o8,035,783   \n",
       "4       NaN     USA              R     Quentin Tarantino    $ 222831817   \n",
       "\n",
       "       Votes Score  \n",
       "0  2.278.845   9.3  \n",
       "1  1.572.674   9.2  \n",
       "2  2.241.615    9.  \n",
       "3  1.098.714  9,.0  \n",
       "4  1.780.147  8,9f  "
      ]
     },
     "execution_count": 36,
     "metadata": {},
     "output_type": "execute_result"
    }
   ],
   "source": [
    "idmb.head()"
   ]
  },
  {
   "cell_type": "code",
   "execution_count": 37,
   "id": "a3cf0e09-d811-4f70-880f-f4f2c2d5af8a",
   "metadata": {},
   "outputs": [
    {
     "data": {
      "text/plain": [
       "<bound method NDFrame.astype of 0         $ 28815245\n",
       "1        $ 246120974\n",
       "2       $ 1005455211\n",
       "3      $ 4o8,035,783\n",
       "4        $ 222831817\n",
       "           ...      \n",
       "96       $ 156000000\n",
       "97        $ 11487676\n",
       "98        $ 15000000\n",
       "99        $ 22926076\n",
       "100        $ 1864182\n",
       "Name: Income, Length: 101, dtype: object>"
      ]
     },
     "execution_count": 37,
     "metadata": {},
     "output_type": "execute_result"
    }
   ],
   "source": [
    "idmb['Income'].astype"
   ]
  },
  {
   "cell_type": "code",
   "execution_count": 38,
   "id": "30dfff48-fa60-4f58-a020-1e0010125d5d",
   "metadata": {},
   "outputs": [],
   "source": [
    "#adjusting the 'Income' column \n",
    "\n",
    "#replacing the $ symbol\n",
    "idmb['Income'] = idmb['Income'].str.replace(r'\\$', ' ', regex = True)\n",
    "\n",
    "#harmonizing the data in 'Income' column\n",
    "map={' ':'','o':'0',',':''}\n",
    "idmb['Income']=idmb['Income'].str[1:].replace(map,regex=True)"
   ]
  },
  {
   "cell_type": "code",
   "execution_count": 39,
   "id": "6a3c8c85-adf7-4be4-b0e4-d6325a8ab1f2",
   "metadata": {},
   "outputs": [
    {
     "data": {
      "text/html": [
       "<div>\n",
       "<style scoped>\n",
       "    .dataframe tbody tr th:only-of-type {\n",
       "        vertical-align: middle;\n",
       "    }\n",
       "\n",
       "    .dataframe tbody tr th {\n",
       "        vertical-align: top;\n",
       "    }\n",
       "\n",
       "    .dataframe thead th {\n",
       "        text-align: right;\n",
       "    }\n",
       "</style>\n",
       "<table border=\"1\" class=\"dataframe\">\n",
       "  <thead>\n",
       "    <tr style=\"text-align: right;\">\n",
       "      <th></th>\n",
       "      <th>IMBD title ID</th>\n",
       "      <th>Original titlÊ</th>\n",
       "      <th>Release year</th>\n",
       "      <th>Genrë¨</th>\n",
       "      <th>Duration</th>\n",
       "      <th>Country</th>\n",
       "      <th>Content Rating</th>\n",
       "      <th>Director</th>\n",
       "      <th>Income</th>\n",
       "      <th>Votes</th>\n",
       "      <th>Score</th>\n",
       "    </tr>\n",
       "  </thead>\n",
       "  <tbody>\n",
       "    <tr>\n",
       "      <th>13</th>\n",
       "      <td>NaN</td>\n",
       "      <td>NaN</td>\n",
       "      <td>NaT</td>\n",
       "      <td>NaN</td>\n",
       "      <td>NaN</td>\n",
       "      <td>NaN</td>\n",
       "      <td>Unrated</td>\n",
       "      <td>NaN</td>\n",
       "      <td>NaN</td>\n",
       "      <td>NaN</td>\n",
       "      <td>NaN</td>\n",
       "    </tr>\n",
       "  </tbody>\n",
       "</table>\n",
       "</div>"
      ],
      "text/plain": [
       "   IMBD title ID Original titlÊ Release year Genrë¨  Duration Country  \\\n",
       "13           NaN            NaN          NaT    NaN       NaN     NaN   \n",
       "\n",
       "   Content Rating Director Income Votes Score  \n",
       "13        Unrated      NaN    NaN   NaN   NaN  "
      ]
     },
     "execution_count": 39,
     "metadata": {},
     "output_type": "execute_result"
    }
   ],
   "source": [
    "idmb[idmb['Income'].isnull()]"
   ]
  },
  {
   "cell_type": "code",
   "execution_count": 40,
   "id": "8f835e9f-51a3-4d6b-9356-3c811f69f068",
   "metadata": {},
   "outputs": [],
   "source": [
    "#drop this row\n",
    "idmb = idmb.dropna(subset=['Income'])"
   ]
  },
  {
   "cell_type": "code",
   "execution_count": 41,
   "id": "76f381b8-7e5e-48ab-a47d-ab6ef7feca4d",
   "metadata": {},
   "outputs": [
    {
     "name": "stderr",
     "output_type": "stream",
     "text": [
      "C:\\Users\\uchiv\\AppData\\Local\\Temp\\ipykernel_23444\\772962494.py:2: SettingWithCopyWarning: \n",
      "A value is trying to be set on a copy of a slice from a DataFrame.\n",
      "Try using .loc[row_indexer,col_indexer] = value instead\n",
      "\n",
      "See the caveats in the documentation: https://pandas.pydata.org/pandas-docs/stable/user_guide/indexing.html#returning-a-view-versus-a-copy\n",
      "  idmb['Income']= idmb['Income'].astype('float')\n"
     ]
    }
   ],
   "source": [
    "#changing to numeric data\n",
    "idmb['Income']= idmb['Income'].astype('float')\n",
    "\n",
    "#changing the format to a normal one\n",
    "pd.set_option('display.float_format', '{:.2f}'.format)"
   ]
  },
  {
   "cell_type": "markdown",
   "id": "b59d8f83-756b-4651-a513-4ec868134e23",
   "metadata": {},
   "source": [
    "WORKING ON 'Votes' COLUMN"
   ]
  },
  {
   "cell_type": "code",
   "execution_count": 43,
   "id": "85661db9-4d99-4784-8933-52a2b036a779",
   "metadata": {},
   "outputs": [
    {
     "data": {
      "text/plain": [
       "<bound method NDFrame.astype of 0      2.278.845\n",
       "1      1.572.674\n",
       "2      2.241.615\n",
       "3      1.098.714\n",
       "4      1.780.147\n",
       "         ...    \n",
       "96       236.285\n",
       "97       226.427\n",
       "98       226.039\n",
       "99       214.165\n",
       "100      213.152\n",
       "Name: Votes, Length: 100, dtype: object>"
      ]
     },
     "execution_count": 43,
     "metadata": {},
     "output_type": "execute_result"
    }
   ],
   "source": [
    "idmb['Votes'].astype"
   ]
  },
  {
   "cell_type": "code",
   "execution_count": 58,
   "id": "14f8059d-a10a-4327-8f33-818c56608076",
   "metadata": {},
   "outputs": [
    {
     "name": "stderr",
     "output_type": "stream",
     "text": [
      "C:\\Users\\uchiv\\AppData\\Local\\Temp\\ipykernel_23444\\3914572990.py:2: SettingWithCopyWarning: \n",
      "A value is trying to be set on a copy of a slice from a DataFrame.\n",
      "Try using .loc[row_indexer,col_indexer] = value instead\n",
      "\n",
      "See the caveats in the documentation: https://pandas.pydata.org/pandas-docs/stable/user_guide/indexing.html#returning-a-view-versus-a-copy\n",
      "  idmb['Votes'] = idmb['Votes'].str.replace('.',',')\n",
      "C:\\Users\\uchiv\\AppData\\Local\\Temp\\ipykernel_23444\\3914572990.py:3: SettingWithCopyWarning: \n",
      "A value is trying to be set on a copy of a slice from a DataFrame.\n",
      "Try using .loc[row_indexer,col_indexer] = value instead\n",
      "\n",
      "See the caveats in the documentation: https://pandas.pydata.org/pandas-docs/stable/user_guide/indexing.html#returning-a-view-versus-a-copy\n",
      "  idmb['Votes'] = idmb['Votes'].str.replace(',','')\n"
     ]
    }
   ],
   "source": [
    "#replacing ',' and '.' with ''\n",
    "idmb['Votes'] = idmb['Votes'].str.replace('.',',')\n",
    "idmb['Votes'] = idmb['Votes'].str.replace(',','')"
   ]
  },
  {
   "cell_type": "code",
   "execution_count": 60,
   "id": "bcb6857a-a4d9-4253-a67d-a029f0b19777",
   "metadata": {},
   "outputs": [
    {
     "data": {
      "text/plain": [
       "array(['2278845', '1572674', '2241615', '1098714', '1780147', '1604280',\n",
       "       '1183248', '668473', '2002816', '1807440', '1755490', '1619920',\n",
       "       '672499', '1632315', '1449778', '1132073', '991505', '891071',\n",
       "       '1449256', '1402015', '1234134', '1204107', '1203825', '1112336',\n",
       "       '685856', '626693', '605648', '470931', '388310', '307958',\n",
       "       '1308193', '1159703', '1155723', '1027330', '1014218', '1007598',\n",
       "       '974970', '968947', '917248', '855097', '736691', '707942',\n",
       "       '690732', '586765', '509953', '295220', '225438', '223050',\n",
       "       '211250', '1480582', '1317856', '1098879', '974734', '869480',\n",
       "       '865510', '796486', '768874', '754786', '591251', '501082',\n",
       "       '441115', '432390', '352455', '349642', '335892', '332217',\n",
       "       '331045', '302317', '197381', '195789', '1229958', '1049009',\n",
       "       '941683', '928036', '896551', '889875', '864461', '837379',\n",
       "       '766589', '748291', '740301', '739717', '721343', '703264',\n",
       "       '690480', '658175', '639500', '587866', '389322', '362897',\n",
       "       '361028', '352786', '291628', '269616', '261504', '236285',\n",
       "       '226427', '226039', '214165', '213152'], dtype=object)"
      ]
     },
     "execution_count": 60,
     "metadata": {},
     "output_type": "execute_result"
    }
   ],
   "source": [
    "idmb['Votes'].unique()"
   ]
  },
  {
   "cell_type": "code",
   "execution_count": 62,
   "id": "c9e3aa87-9fb2-41fb-b842-89dd6db7ad59",
   "metadata": {},
   "outputs": [
    {
     "name": "stderr",
     "output_type": "stream",
     "text": [
      "C:\\Users\\uchiv\\AppData\\Local\\Temp\\ipykernel_23444\\1077588987.py:1: SettingWithCopyWarning: \n",
      "A value is trying to be set on a copy of a slice from a DataFrame.\n",
      "Try using .loc[row_indexer,col_indexer] = value instead\n",
      "\n",
      "See the caveats in the documentation: https://pandas.pydata.org/pandas-docs/stable/user_guide/indexing.html#returning-a-view-versus-a-copy\n",
      "  idmb['Votes'] = idmb['Votes'].astype('int')\n"
     ]
    }
   ],
   "source": [
    "idmb['Votes'] = idmb['Votes'].astype('int')"
   ]
  },
  {
   "cell_type": "markdown",
   "id": "e2a5a972-4661-46c5-877c-4a772af44e51",
   "metadata": {},
   "source": [
    "WORKING ON 'Score' COLUMN"
   ]
  },
  {
   "cell_type": "code",
   "execution_count": 65,
   "id": "abff7da3-87a0-4aa8-89bf-882f92b4b694",
   "metadata": {},
   "outputs": [
    {
     "data": {
      "text/plain": [
       "array(['9.3', '9.2', '9.', '9,.0', '8,9f', '08.9', '8.9', '8..8', '8.8',\n",
       "       '8:8', '++8.7', '8.7.', '8,7e-0', '8.7', '8.6', '8,6', '8.5',\n",
       "       '8.4', '8.3', '8.2', '8.1', '8.0', '7.9', '7.8', '7.7', '7.6',\n",
       "       '7.5', '7.4'], dtype=object)"
      ]
     },
     "execution_count": 65,
     "metadata": {},
     "output_type": "execute_result"
    }
   ],
   "source": [
    "idmb['Score'].unique()"
   ]
  },
  {
   "cell_type": "code",
   "execution_count": 67,
   "id": "270adedc-cd0f-4201-a9d6-0c79873e169c",
   "metadata": {},
   "outputs": [],
   "source": [
    "#mapping out the wrong values with correct ones\n",
    "map = {'8,9f':'8.9','9,.0':'9.0','08.9':'8.9','8:8':'8.8','8,7e-0':'8.7','++8.7':'8.7','8..8':'8.8','8,6':'8.6','8.7.':'8.7','9.':'9.0'}\n",
    "\n",
    "#replacing the values\n",
    "idmb.loc[:, 'Score']=idmb['Score'].replace(map,regex=False).astype(float)"
   ]
  },
  {
   "cell_type": "code",
   "execution_count": 69,
   "id": "6fc84e5d-55fd-471a-9b50-f6b62f023696",
   "metadata": {},
   "outputs": [
    {
     "data": {
      "text/plain": [
       "<bound method NDFrame.astype of 0     9.30\n",
       "1     9.20\n",
       "2     9.00\n",
       "3     9.00\n",
       "4     8.90\n",
       "      ... \n",
       "96    7.50\n",
       "97    7.50\n",
       "98    7.40\n",
       "99    7.40\n",
       "100   7.40\n",
       "Name: Score, Length: 100, dtype: object>"
      ]
     },
     "execution_count": 69,
     "metadata": {},
     "output_type": "execute_result"
    }
   ],
   "source": [
    "idmb['Score'].astype"
   ]
  },
  {
   "cell_type": "code",
   "execution_count": 73,
   "id": "50f27d79-eb53-42fe-9ca3-fa99f070599a",
   "metadata": {},
   "outputs": [],
   "source": [
    "idmb.to_csv('idmb_cleaned.csv', index = False)"
   ]
  },
  {
   "cell_type": "code",
   "execution_count": 75,
   "id": "846a1033-efa4-41d2-84cd-dca0439e6279",
   "metadata": {},
   "outputs": [
    {
     "data": {
      "text/plain": [
       "IMBD title ID             object\n",
       "Original titlÊ            object\n",
       "Release year      datetime64[ns]\n",
       "Genrë¨                    object\n",
       "Duration                 float64\n",
       "Country                 category\n",
       "Content Rating            object\n",
       "Director                  object\n",
       "Income                   float64\n",
       "Votes                      int32\n",
       "Score                     object\n",
       "dtype: object"
      ]
     },
     "execution_count": 75,
     "metadata": {},
     "output_type": "execute_result"
    }
   ],
   "source": [
    "idmb.dtypes"
   ]
  },
  {
   "cell_type": "code",
   "execution_count": null,
   "id": "0b0bddeb-2d74-4404-93d1-40c40ab427ff",
   "metadata": {},
   "outputs": [],
   "source": []
  }
 ],
 "metadata": {
  "kernelspec": {
   "display_name": "Python [conda env:base] *",
   "language": "python",
   "name": "conda-base-py"
  },
  "language_info": {
   "codemirror_mode": {
    "name": "ipython",
    "version": 3
   },
   "file_extension": ".py",
   "mimetype": "text/x-python",
   "name": "python",
   "nbconvert_exporter": "python",
   "pygments_lexer": "ipython3",
   "version": "3.12.7"
  }
 },
 "nbformat": 4,
 "nbformat_minor": 5
}
